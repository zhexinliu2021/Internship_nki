{
 "cells": [
  {
   "cell_type": "code",
   "execution_count": 16,
   "id": "3e811b60",
   "metadata": {
    "scrolled": true
   },
   "outputs": [
    {
     "name": "stdout",
     "output_type": "stream",
     "text": [
      "Using matplotlib backend: MacOSX\n"
     ]
    }
   ],
   "source": [
    "import numpy as np\n",
    "import pandas as pd\n",
    "import gzip\n",
    "import kipoiseq\n",
    "import importlib\n",
    "import Models\n",
    "importlib.reload(Models)\n",
    "%matplotlib\n",
    "import matplotlib"
   ]
  },
  {
   "cell_type": "code",
   "execution_count": 2,
   "id": "48922674",
   "metadata": {},
   "outputs": [],
   "source": [
    "# output cancer gene list\n",
    "\n",
    "def get_cons(*items, method='inter'):\n",
    "    \"\"\"return the intersection or union of multiple \n",
    "    lists. method =inter / union \n",
    "    output type: set\"\"\"\n",
    "    \n",
    "    # make them all the set types\n",
    "    set_items=[]\n",
    "    for i, genes in enumerate(items):\n",
    "        if len(genes) == len(set(genes)):\n",
    "            set_items.append(set(genes))\n",
    "        else:\n",
    "            return('WARNING: the {}th gene set contains duplicate genes.'.format(i+1))\n",
    "            \n",
    "    num = len(items) \n",
    "    cur_list = []\n",
    "    cur_index = None\n",
    "    for i, genes in enumerate(set_items):\n",
    "        if cur_index == None: \n",
    "            cur_list = genes; cur_index = i\n",
    "            continue\n",
    "        else:\n",
    "            if method == 'inter': cur_list = cur_list.intersection(genes)\n",
    "            if method == 'union': cur_list = cur_list.union(genes)\n",
    "            cur_index = i\n",
    "    return(cur_list)\n",
    "    \n",
    "    "
   ]
  },
  {
   "cell_type": "code",
   "execution_count": 3,
   "id": "d63ce74d",
   "metadata": {},
   "outputs": [],
   "source": [
    "\n",
    "def gene_extractor(gff_file, mapping_list, gzziped=False):\n",
    "    \"\"\"input: gff file, list of wanted gene names\n",
    "       output: dict\n",
    "    \"\"\"\n",
    "    def _open(file):\n",
    "        return gzip.open(file, 'rt') if gzziped else open(file,'r')\n",
    "    def get_nonoverlap(chr_, start, end, gene_pos):\n",
    "        \"\"\" return the end position of the last up stream \n",
    "        non-overlapping gene\"\"\"\n",
    "        return(max(np.array(gene_pos[chr_])[:,1][np.array(gene_pos[chr_])[:,1] < start]))\n",
    "        \n",
    "    with _open(gff_file) as f:\n",
    "        up_gene = False; gene_pos= {} # {(start, end), ...}\n",
    "        last_gene = None; cur_gene = None\n",
    "        gene_dict={}\n",
    "        for line in f:\n",
    "            if line.startswith('#'): continue\n",
    "            chr_, xx, seq_type, start, end, score, strand, frame, attri = line.strip().split('\\t')\n",
    "            if attri.split(';')[0].startswith('ID=gene-'):\n",
    "                cur_gene = (attri.split(';')[0].split('ID=gene-')[1], start, end)\n",
    "                \n",
    "                if cur_gene[0] in mapping_list and last_gene != None: \n",
    "                    #store upstream and current gene\n",
    "                    gene_dict['up_border'] = get_nonoverlap( chr_, int(start), \n",
    "                                                           int(end), gene_pos)\n",
    "                    gene_dict['name'] = cur_gene[0]\n",
    "                    gene_dict['seq_type'] = seq_type\n",
    "                    gene_dict['chr'] = chr_\n",
    "                    gene_dict['start'] = start\n",
    "                    gene_dict['end'] = end\n",
    "                    gene_dict['strand'] = strand\n",
    "                    gene_dict['attri'] = attri\n",
    "                    up_gene = True\n",
    "                elif up_gene and  int(start) > int(gene_dict['end']):\n",
    "                    #store downstread gene (only the start of downstrad gene\n",
    "                    #                       is bigger than the end of target\n",
    "                    #                       gene)\n",
    "                     \n",
    "                    gene_dict['down_border'] = start\n",
    "                    up_gene = False\n",
    "                    yield gene_dict\n",
    "                    gene_dict = {}\n",
    "                \n",
    "                gene_pos.setdefault(chr_,[]).append((int(start),int(end)))\n",
    "                last_gene=cur_gene\n",
    "            "
   ]
  },
  {
   "cell_type": "code",
   "execution_count": 4,
   "id": "ed080d7e",
   "metadata": {},
   "outputs": [],
   "source": [
    "\n",
    "dam_file='/Users/jerryliu/Documents/Vu_uva/internship/CCLE/\\\n",
    "mutation_files/CCLE_mutations_bool_damaging.csv'\n",
    "hot_file='/Users/jerryliu/Documents/Vu_uva/internship/CCLE/\\\n",
    "mutation_files/CCLE_mutations_bool_hotspot.csv'\n",
    "non_file='/Users/jerryliu/Documents/Vu_uva/internship/CCLE/\\\n",
    "mutation_files/CCLE_mutations_bool_nonconserving.csv'\n",
    "con_file='/Users/jerryliu/Documents/Vu_uva/internship/CCLE/\\\n",
    "mutation_files/CCLE_mutations_bool_otherconserving.csv'\n",
    "Con_file='/Users/jerryliu/Documents/Vu_uva/internship/CCLE/\\\n",
    "mutation_files/Census_allSat.csv'\n"
   ]
  },
  {
   "cell_type": "code",
   "execution_count": 5,
   "id": "7ede27cc",
   "metadata": {},
   "outputs": [],
   "source": [
    "gene_lists =  [ pd.read_csv(path).columns[1:].map(lambda x:x.split(' ')[0])  \n",
    "    for path in [dam_file, hot_file, non_file] ]\n",
    "\n",
    "Con_genes = pd.read_csv(Con_file).loc[:,'Gene Symbol']\n",
    "\n",
    "final_genes = get_cons(get_cons(*gene_lists, method='union'), Con_genes, method= 'inter')"
   ]
  },
  {
   "cell_type": "code",
   "execution_count": 20,
   "id": "be42d3e7",
   "metadata": {},
   "outputs": [],
   "source": [
    "# extract the positions of each cancer gene\n",
    "gff_file = '/Users/jerryliu/jerry_jupyter/internship/files/GRCh37_latest_genomic.gff.gz'\n",
    "vcf_file = '/Users/jerryliu/jerry_jupyter/internship/files/SRR8788980'\n",
    "gene_pos = Models.gene_extractor(gff_file = gff_file, mapping_list=final_genes, gzziped=True)\n",
    "transform_path = 'gs://dm-enformer/models/enformer.finetuned.SAD.robustscaler-PCA500-robustscaler.transform.pkl'\n",
    "model_path = 'https://tfhub.dev/deepmind/enformer/1'\n",
    "fasta_file = '/Users/jerryliu/jerry_jupyter/internship/files/Homo_sapiens_assembly19.fasta'\n",
    "# Download targets from Basenji2 dataset \n",
    "targets_txt = 'https://raw.githubusercontent.com/calico/basenji/master/manuscripts/cross2020/targets_human.txt'\n",
    "df_targets = pd.read_csv(targets_txt, sep='\\t')\n",
    "TSS_file = '/Users/jerryliu/jerry_jupyter/internship/files/mart_export.txt.gz'"
   ]
  },
  {
   "cell_type": "code",
   "execution_count": 26,
   "id": "8f1754d3",
   "metadata": {},
   "outputs": [
    {
     "data": {
      "text/plain": [
       "710"
      ]
     },
     "execution_count": 26,
     "metadata": {},
     "output_type": "execute_result"
    }
   ],
   "source": [
    "# counts = 0\n",
    "# biggest = 0\n",
    "# for i,gene in enumerate(gene_pos):\n",
    "#     length =(int(gene['end']) - int(gene['start'])) +1\n",
    "#     biggest  =  length  if biggest < length else biggest\n",
    "#     if length > SEQUENCE_LENGTH: counts += 1\n",
    "#     #if int(gene['start']) - int(gene['end']) >= SEQUENCE_LENGTH: counts += 1\n",
    "# #print(biggest)\n",
    "# print(counts\n",
    "len(final_genes)"
   ]
  },
  {
   "cell_type": "code",
   "execution_count": 32,
   "id": "5d580302",
   "metadata": {},
   "outputs": [
    {
     "name": "stdout",
     "output_type": "stream",
     "text": [
      "GRCh37_latest_genomic.gff.gz       VCFv4.1.pdf\n",
      "Homo_sapiens_assembly19.fasta      VCFv4.3.pdf\n",
      "Homo_sapiens_assembly19.fasta.dict clinvar.vcf\n",
      "Homo_sapiens_assembly19.fasta.fai  \u001b[1m\u001b[36moutput\u001b[m\u001b[m\n",
      "SAMv1.pdf                          未命名.ipynb\n",
      "SRR8788980.1.new.13.output.g.vcf\n",
      "/Users/jerryliu/jerry_jupyter/internship/code\n"
     ]
    },
    {
     "data": {
      "text/plain": [
       "1056839"
      ]
     },
     "execution_count": 32,
     "metadata": {},
     "output_type": "execute_result"
    }
   ],
   "source": [
    "!ls ../files\n",
    "!pwd\n",
    "36271661 - 35214822"
   ]
  },
  {
   "cell_type": "code",
   "execution_count": 87,
   "id": "990da42f",
   "metadata": {
    "scrolled": false
   },
   "outputs": [
    {
     "name": "stdout",
     "output_type": "stream",
     "text": [
      "{'up_border': 20437789, 'name': 'ZMYM2', 'seq_type': 'gene', 'chr': '13', 'start': '20531563', 'end': '20663255', 'strand': '+', 'attri': 'ID=gene-ZMYM2;Dbxref=GeneID:7750,HGNC:HGNC:12989,MIM:602221;Name=ZMYM2;description=zinc finger MYM-type containing 2;gbkey=Gene;gene=ZMYM2;gene_biotype=protein_coding;gene_synonym=FIM,MYM,RAMP,SCLL,ZNF198', 'down_border': '20676840'}\n",
      "{'up_border': 21536407, 'name': 'LATS2', 'seq_type': 'gene', 'chr': '13', 'start': '21547175', 'end': '21635725', 'strand': '-', 'attri': 'ID=gene-LATS2;Dbxref=GeneID:26524,HGNC:HGNC:6515,MIM:604861;Name=LATS2;description=large tumor suppressor kinase 2;gbkey=Gene;gene=LATS2;gene_biotype=protein_coding;gene_synonym=KPM', 'down_border': '21668434'}\n",
      "{'up_border': 28529500, 'name': 'CDX2', 'seq_type': 'gene', 'chr': '13', 'start': '28535055', 'end': '28543452', 'strand': '-', 'attri': 'ID=gene-CDX2;Dbxref=GeneID:1045,HGNC:HGNC:1806,MIM:600297;Name=CDX2;description=caudal type homeobox 2;gbkey=Gene;gene=CDX2;gene_biotype=protein_coding;gene_synonym=CDX-3,CDX2/AS,CDX3', 'down_border': '28551854'}\n",
      "{'up_border': 28563721, 'name': 'FLT3', 'seq_type': 'gene', 'chr': '13', 'start': '28577411', 'end': '28674713', 'strand': '-', 'attri': 'ID=gene-FLT3;Dbxref=GeneID:2322,HGNC:HGNC:3765,MIM:136351;Name=FLT3;description=fms related receptor tyrosine kinase 3;gbkey=Gene;gene=FLT3;gene_biotype=protein_coding;gene_synonym=CD135,FLK-2,FLK2,STK1', 'down_border': '28681544'}\n",
      "{'up_border': 32889500, 'name': 'BRCA2', 'seq_type': 'gene', 'chr': '13', 'start': '32889645', 'end': '32974405', 'strand': '+', 'attri': 'ID=gene-BRCA2;Dbxref=GeneID:675,HGNC:HGNC:1101,MIM:600185;Name=BRCA2;description=BRCA2 DNA repair associated;gbkey=Gene;gene=BRCA2;gene_biotype=protein_coding;gene_synonym=BRCC2,BROVCA2,FACD,FAD,FAD1,FANCD,FANCD1,GLM3,PNCA2,XRCC11', 'down_border': '32974860'}\n",
      "{'up_border': 41055143, 'name': 'FOXO1', 'seq_type': 'gene', 'chr': '13', 'start': '41129804', 'end': '41240778', 'strand': '-', 'attri': 'ID=gene-FOXO1;Dbxref=GeneID:2308,HGNC:HGNC:3819,MIM:136533;Name=FOXO1;description=forkhead box O1;gbkey=Gene;gene=FOXO1;gene_biotype=protein_coding;gene_synonym=FKH1,FKHR,FOXO1A', 'down_border': '41301952'}\n"
     ]
    }
   ],
   "source": [
    "SEQUENCE_LENGTH = 393216\n",
    "counts = 0\n",
    "for i, gene in enumerate(gene_pos): \n",
    "    if gene['chr'] == '13' and \\\n",
    "    (int(gene['down_border']) - int(gene['up_border'])) < SEQUENCE_LENGTH:\n",
    "        print(gene)\n",
    "        counts += 1\n",
    "    if counts >5: break    "
   ]
  },
  {
   "cell_type": "code",
   "execution_count": 7,
   "id": "b249670e",
   "metadata": {},
   "outputs": [],
   "source": [
    "model = Models.Enformer(model_path)\n",
    "\n",
    "fasta_extractor = Models.FastaStringExtractor(fasta_file)"
   ]
  },
  {
   "cell_type": "code",
   "execution_count": 54,
   "id": "e7a54604",
   "metadata": {},
   "outputs": [
    {
     "name": "stdout",
     "output_type": "stream",
     "text": [
      "cancer gene length: 730466\n",
      "gene length + non-coding part: 1056839\n"
     ]
    }
   ],
   "source": [
    "print('cancer gene length: '+str(36246873-35516407))\n",
    "print('gene length + non-coding part: '+str(36271661-35214822))"
   ]
  },
  {
   "cell_type": "code",
   "execution_count": 130,
   "id": "049bc822",
   "metadata": {},
   "outputs": [],
   "source": [
    "up_border = 20437789; down_border = 20676840\n",
    "Interval = kipoiseq.Interval('13', 20526481,  20526481).resize(SEQUENCE_LENGTH)  # @param\n",
    "seq_extractor = kipoiseq.extractors.VariantSeqExtractor(reference_sequence=fasta_extractor)\n",
    "center = Interval.center() - Interval.start\n",
    "\n",
    "reference = seq_extractor.extract(Interval, [], anchor=center)\n",
    "\n",
    "reference_prediction = model.predict_on_batch(Models.one_hot_encode(reference)[np.newaxis])['human'][0]\n",
    "\n",
    "\n",
    "tracks = {'CAGE/neutrofils ref': reference_prediction[:, 4767],\n",
    "          'CHIP:H3K27ac:neutrophil ref': reference_prediction[:, 2280],\n",
    "          'DNASE:CD14-positive monocyte female': reference_prediction[:, 41],\n",
    "          'DNASE:keratinocyte female': reference_prediction[:, 42],\n",
    "          'CHIP:H3K27ac:keratinocyte female': reference_prediction[:, 706],\n",
    "          'CAGE:Keratinocyte - epidermal': np.log10(1 + reference_prediction[:, 4799])}\n",
    "Models.plot_tracks(tracks, Interval.resize(reference_prediction.shape[0] * 128), height = 1.5)\n",
    "\n",
    "#Models.plot_full_track(tracks, Interval, up_border, down_border, height=1.5)"
   ]
  },
  {
   "cell_type": "code",
   "execution_count": 152,
   "id": "fb775c23",
   "metadata": {},
   "outputs": [
    {
     "data": {
      "text/plain": [
       "(896, 5313)"
      ]
     },
     "execution_count": 152,
     "metadata": {},
     "output_type": "execute_result"
    }
   ],
   "source": [
    "reference_prediction.shape"
   ]
  },
  {
   "cell_type": "code",
   "execution_count": 24,
   "id": "e11ba220",
   "metadata": {},
   "outputs": [
    {
     "name": "stdout",
     "output_type": "stream",
     "text": [
      "[-0.3422581  -0.28567305 -0.40039402 ...  0.05264773  0.57751823\n",
      "  0.81826293]\n"
     ]
    }
   ],
   "source": [
    "# generate prediction for all genes\n",
    "SEQUENCE_LENGTH = 393216\n",
    "acc_id = 'SRR8788980'\n",
    "gene_pos = Models.gene_extractor(gff_file = gff_file, mapping_list=final_genes, gzziped=True)\n",
    "for gene_dict in gene_pos:\n",
    "    # create Gene object\n",
    "    gene = Models.Gene(**gene_dict)\n",
    "    # create TSS interval objects list\n",
    "    TSS_list = [kipoiseq.Interval(gene.chrom, TSS,  TSS).resize(SEQUENCE_LENGTH) \\\n",
    "     for TSS in Models.extract_TSS(gene_id = gene.name, TSS_file = TSS_file ) ]\n",
    "\n",
    "    # prepare sequence for each TSS\n",
    "    seq_extractor = kipoiseq.extractors.VariantSeqExtractor(reference_sequence=fasta_extractor)\n",
    "    \n",
    "    expression = np.zeros(5313)\n",
    "    for TSS_item in TSS_list:\n",
    "        reference  = seq_extractor.extract(TSS_item, [],\n",
    "                                           anchor = TSS_item.center() - TSS_item.start)\n",
    "        # generate variants list for each TSS\n",
    "        variants = [i for i in  Models.variants_extractor(vcf_path = vcf_file, \n",
    "                                  Interval = TSS_item,acc_id = acc_id, gzipped=True) ]\n",
    "        \n",
    "        alternate = seq_extractor.extract(TSS_item, variants, \n",
    "                                          anchor = TSS_item.center() - TSS_item.start )\n",
    "        # make prediction on the 114,688-bp centering the TSS of the gene\n",
    "        reference_prediction = model.predict_on_batch(Models.one_hot_encode(reference)[np.newaxis])['human'][0]\n",
    "        alternate_prediction = model.predict_on_batch(Models.one_hot_encode(alternate)[np.newaxis])['human'][0]\n",
    "        \n",
    "        # 1* 5313\n",
    "        expression = expression + Models.calculate_TSS(ref_pre = reference_prediction, alt_pre = alternate_prediction)\n",
    "    print(expression)\n",
    "    \n",
    "    break\n",
    "        "
   ]
  }
 ],
 "metadata": {
  "kernelspec": {
   "display_name": "Python 3",
   "language": "python",
   "name": "python3"
  },
  "language_info": {
   "codemirror_mode": {
    "name": "ipython",
    "version": 3
   },
   "file_extension": ".py",
   "mimetype": "text/x-python",
   "name": "python",
   "nbconvert_exporter": "python",
   "pygments_lexer": "ipython3",
   "version": "3.8.10"
  },
  "toc": {
   "base_numbering": 1,
   "nav_menu": {},
   "number_sections": true,
   "sideBar": true,
   "skip_h1_title": false,
   "title_cell": "Table of Contents",
   "title_sidebar": "Contents",
   "toc_cell": false,
   "toc_position": {},
   "toc_section_display": true,
   "toc_window_display": false
  }
 },
 "nbformat": 4,
 "nbformat_minor": 5
}
